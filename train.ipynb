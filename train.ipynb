{
 "cells": [
  {
   "cell_type": "code",
   "execution_count": 1,
   "metadata": {},
   "outputs": [
    {
     "name": "stdout",
     "output_type": "stream",
     "text": [
      "Jupyter environment detected. Enabling Open3D WebVisualizer.\n",
      "[Open3D INFO] WebRTC GUI backend enabled.\n",
      "[Open3D INFO] WebRTCWindowSystem: HTTP handshake server disabled.\n"
     ]
    }
   ],
   "source": [
    "import math\n",
    "import copy\n",
    "import json\n",
    "\n",
    "import numpy as np\n",
    "import torch\n",
    "from torch import nn\n",
    "import wandb\n",
    "\n",
    "from modules import MLP, PositionalEncoding\n",
    "from tqdm import tqdm\n",
    "from utils import load_params, init_variables, get_linear_warmup_cos_annealing, get_dataset, initialize_per_timestep, get_loss, get_frame"
   ]
  },
  {
   "cell_type": "code",
   "execution_count": 3,
   "metadata": {},
   "outputs": [],
   "source": [
    "def train(seq: str):\n",
    "    md = json.load(open(f\"./data/{seq}/train_meta.json\", 'r'))\n",
    "    seq_len = 5\n",
    "    params = load_params('params.pth')\n",
    "    variables = init_variables(params)\n",
    "    iterations = 500_000\n",
    "\n",
    "    mlp = MLP(100, 128, seq_len, 6).cuda()\n",
    "    # mlp = UNet(100, None, seq_len, None).cuda()\n",
    "    mlp_optimizer = torch.optim.Adam(params=mlp.parameters(), lr=2e-3)\n",
    "    scheduler = get_linear_warmup_cos_annealing(mlp_optimizer, warmup_iters=10_000, total_iters=iterations)\n",
    "\n",
    "    means = params['means']\n",
    "    rotations = params['rotations']\n",
    "\n",
    "    means_norm = means - means.min(dim=0).values\n",
    "    means_norm = (2. * means_norm / means_norm.max(dim=0).values) - 1.\n",
    "\n",
    "    rotations_norm = rotations - rotations.min(dim=0).values\n",
    "    rotations_norm = (2. * rotations_norm / rotations_norm.max(dim=0).values) - 1.\n",
    "\n",
    "    pos_mean = PositionalEncoding(L=10)\n",
    "    pos_smol = PositionalEncoding(L=4)\n",
    "\n",
    "    means_norm = pos_mean(means_norm)\n",
    "    rotations_norm = pos_smol(rotations_norm)\n",
    "\n",
    "    ## Random Training\n",
    "    dataset = []\n",
    "    for t in range(1, seq_len + 1, 1):\n",
    "        dataset += [get_dataset(t, md, seq)]\n",
    "    for i in tqdm(range(iterations)):\n",
    "        p = i / iterations\n",
    "        alpha = 2. / (1. + math.exp(-6 * p)) - 1\n",
    "\n",
    "        di = (i % seq_len)# torch.randint(0, len(dataset), (1,))\n",
    "        si = torch.randint(0, len(dataset[0]), (1,))\n",
    "\n",
    "        t = pos_smol(torch.tensor((di+1)/seq_len).view(1,1).repeat(means_norm.shape[0], 1).cuda())\n",
    "\n",
    "        if di == 0:\n",
    "            variables = initialize_per_timestep(params, variables)\n",
    "\n",
    "        X = dataset[di][si]\n",
    "\n",
    "        # delta = mlp(torch.cat((params['means'], params['rotations']), dim=1), torch.tensor(di).cuda())\n",
    "        delta = mlp(torch.cat((params['means'], params['rotations']), dim=1), torch.cat((means_norm, rotations_norm), dim=1), torch.tensor(t).cuda())\n",
    "        delta_means = delta[:,:3]\n",
    "        delta_rotations = delta[:,3:]\n",
    "\n",
    "        l = 0.01\n",
    "        updated_params = copy.deepcopy(params)\n",
    "        updated_params['means'] = updated_params['means'].detach()\n",
    "        updated_params['means'] += delta_means * l\n",
    "        updated_params['rotations'] = updated_params['rotations'].detach()\n",
    "        updated_params['rotations'] += delta_rotations * l\n",
    "\n",
    "        loss = get_loss(updated_params, X, variables, alpha)\n",
    "\n",
    "        variables = initialize_per_timestep(updated_params, variables) # sets previous state to updated state\n",
    "\n",
    "        wandb.log({\n",
    "            f'loss-random': loss.item(),\n",
    "            f'lr': mlp_optimizer.param_groups[0]['lr']\n",
    "        })\n",
    "\n",
    "        loss.backward()\n",
    "\n",
    "        mlp_optimizer.step()\n",
    "        scheduler.step()\n",
    "        mlp_optimizer.zero_grad()\n",
    "\n",
    "    for d in dataset:\n",
    "        losses = []\n",
    "        with torch.no_grad():\n",
    "            for X in d:\n",
    "                loss = get_loss(updated_params, X, variables, alpha=1.)\n",
    "                losses.append(loss.item())\n",
    "\n",
    "        wandb.log({\n",
    "            f'mean-losses-new': sum(losses) / len(losses)\n",
    "        })\n",
    "\n",
    "        ## Visualize\n",
    "    with torch.no_grad():\n",
    "        ds = get_dataset(0, md=md, seq=seq)\n",
    "        canon_batch = ds[0]\n",
    "\n",
    "        frames = []\n",
    "        images = []\n",
    "        gif = []\n",
    "\n",
    "        # Canonical frame\n",
    "        frames.append(get_frame(params, canon_batch))\n",
    "\n",
    "        for t in range(0, seq_len , 1):\n",
    "            das = get_dataset(t, md=md, seq=seq)\n",
    "            X = das[0]\n",
    "\n",
    "            t = pos_smol(torch.tensor((t+1)/seq_len).view(1,1).repeat(means_norm.shape[0], 1).cuda())\n",
    "\n",
    "            # delta = mlp(torch.cat((params['means'], params['rotations']), dim=1), torch.tensor(t).cuda())\n",
    "            delta = mlp(torch.cat((params['means'], params['rotations']), dim=1), torch.cat((means_norm, rotations_norm), dim=1), t)\n",
    "            delta_means = delta[:,:3]\n",
    "            delta_rotations = delta[:,3:]\n",
    "\n",
    "            updated_params = copy.deepcopy(params)\n",
    "            updated_params['means'] = updated_params['means'].detach()\n",
    "            updated_params['means'] += delta_means * l\n",
    "            updated_params['rotations'] = updated_params['rotations'].detach()\n",
    "            updated_params['rotations'] += delta_rotations * l\n",
    "\n",
    "            fr = get_frame(updated_params, X)\n",
    "\n",
    "            frames.append(fr)\n",
    "\n",
    "        for frame in frames:\n",
    "            frame_np = (frame.detach().cpu().clip(min=0.0, max=1.0).permute(1,2,0).numpy()*255).astype(np.uint8)\n",
    "            im = Image.fromarray(frame_np)\n",
    "            images.append(im)\n",
    "\n",
    "        print('Writing image...')\n",
    "        images[0].save('temp_result.gif', save_all=True,optimize=False, append_images=images[1:], loop=0)\n"
   ]
  },
  {
   "cell_type": "code",
   "execution_count": 4,
   "metadata": {},
   "outputs": [
    {
     "name": "stderr",
     "output_type": "stream",
     "text": [
      "Failed to detect the name of this notebook, you can set it manually with the WANDB_NOTEBOOK_NAME environment variable to enable code saving.\n",
      "\u001b[34m\u001b[1mwandb\u001b[0m: Currently logged in as: \u001b[33mmyasincifci\u001b[0m. Use \u001b[1m`wandb login --relogin`\u001b[0m to force relogin\n",
      "\u001b[34m\u001b[1mwandb\u001b[0m: \u001b[33mWARNING\u001b[0m If you're specifying your api key in code, ensure this code is not shared publicly.\n",
      "\u001b[34m\u001b[1mwandb\u001b[0m: \u001b[33mWARNING\u001b[0m Consider setting the WANDB_API_KEY environment variable, or running `wandb login` from the command line.\n",
      "\u001b[34m\u001b[1mwandb\u001b[0m: Appending key for api.wandb.ai to your netrc file: /home/yasin/.netrc\n"
     ]
    },
    {
     "data": {
      "text/html": [
       "wandb version 0.17.5 is available!  To upgrade, please run:\n",
       " $ pip install wandb --upgrade"
      ],
      "text/plain": [
       "<IPython.core.display.HTML object>"
      ]
     },
     "metadata": {},
     "output_type": "display_data"
    },
    {
     "data": {
      "text/html": [
       "Tracking run with wandb version 0.17.1"
      ],
      "text/plain": [
       "<IPython.core.display.HTML object>"
      ]
     },
     "metadata": {},
     "output_type": "display_data"
    },
    {
     "data": {
      "text/html": [
       "Run data is saved locally in <code>/home/yasin/repos/CoolDynamicGaussians/wandb/run-20240805_112110-co1j3q09</code>"
      ],
      "text/plain": [
       "<IPython.core.display.HTML object>"
      ]
     },
     "metadata": {},
     "output_type": "display_data"
    },
    {
     "data": {
      "text/html": [
       "Syncing run <strong><a href='https://wandb.ai/myasincifci/new-dynamic-gaussians/runs/co1j3q09' target=\"_blank\">atomic-music-251</a></strong> to <a href='https://wandb.ai/myasincifci/new-dynamic-gaussians' target=\"_blank\">Weights & Biases</a> (<a href='https://wandb.me/run' target=\"_blank\">docs</a>)<br/>"
      ],
      "text/plain": [
       "<IPython.core.display.HTML object>"
      ]
     },
     "metadata": {},
     "output_type": "display_data"
    },
    {
     "data": {
      "text/html": [
       " View project at <a href='https://wandb.ai/myasincifci/new-dynamic-gaussians' target=\"_blank\">https://wandb.ai/myasincifci/new-dynamic-gaussians</a>"
      ],
      "text/plain": [
       "<IPython.core.display.HTML object>"
      ]
     },
     "metadata": {},
     "output_type": "display_data"
    },
    {
     "data": {
      "text/html": [
       " View run at <a href='https://wandb.ai/myasincifci/new-dynamic-gaussians/runs/co1j3q09' target=\"_blank\">https://wandb.ai/myasincifci/new-dynamic-gaussians/runs/co1j3q09</a>"
      ],
      "text/plain": [
       "<IPython.core.display.HTML object>"
      ]
     },
     "metadata": {},
     "output_type": "display_data"
    },
    {
     "data": {
      "text/html": [
       "<button onClick=\"this.nextSibling.style.display='block';this.style.display='none';\">Display W&B run</button><iframe src='https://wandb.ai/myasincifci/new-dynamic-gaussians/runs/co1j3q09?jupyter=true' style='border:none;width:100%;height:420px;display:none;'></iframe>"
      ],
      "text/plain": [
       "<wandb.sdk.wandb_run.Run at 0x7c204ef74cd0>"
      ]
     },
     "execution_count": 4,
     "metadata": {},
     "output_type": "execute_result"
    }
   ],
   "source": [
    "wandb.login(\n",
    "    key=\"45f1e71344c1104de0ce98dc2cf5d9e7557e88ea\"\n",
    ")\n",
    "wandb.init(\n",
    "    project=\"new-dynamic-gaussians\",\n",
    "    entity=\"myasincifci\",\n",
    "\n",
    ")"
   ]
  },
  {
   "cell_type": "code",
   "execution_count": 5,
   "metadata": {},
   "outputs": [],
   "source": [
    "train('basketball')"
   ]
  },
  {
   "cell_type": "code",
   "execution_count": null,
   "metadata": {},
   "outputs": [],
   "source": []
  }
 ],
 "metadata": {
  "kernelspec": {
   "display_name": "base",
   "language": "python",
   "name": "python3"
  },
  "language_info": {
   "codemirror_mode": {
    "name": "ipython",
    "version": 3
   },
   "file_extension": ".py",
   "mimetype": "text/x-python",
   "name": "python",
   "nbconvert_exporter": "python",
   "pygments_lexer": "ipython3",
   "version": "3.10.14"
  }
 },
 "nbformat": 4,
 "nbformat_minor": 2
}
